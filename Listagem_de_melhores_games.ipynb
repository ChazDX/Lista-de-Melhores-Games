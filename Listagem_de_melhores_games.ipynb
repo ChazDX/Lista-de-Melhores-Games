{
  "nbformat": 4,
  "nbformat_minor": 0,
  "metadata": {
    "colab": {
      "provenance": []
    },
    "kernelspec": {
      "name": "python3",
      "display_name": "Python 3"
    },
    "language_info": {
      "name": "python"
    }
  },
  "cells": [
    {
      "cell_type": "code",
      "execution_count": 1,
      "metadata": {
        "id": "N9wnWVJR902E"
      },
      "outputs": [],
      "source": [
        "!pip install -q -U google-generativeai"
      ]
    },
    {
      "cell_type": "code",
      "source": [
        "import google.generativeai as genai\n",
        "from google.colab import userdata\n",
        "api_key = userdata.get('SECRET_KEY')\n",
        "genai.configure(api_key=api_key)"
      ],
      "metadata": {
        "id": "_Fy2csr3-V5t"
      },
      "execution_count": null,
      "outputs": []
    },
    {
      "cell_type": "code",
      "source": [
        "model = genai.GenerativeModel('gemini-pro')"
      ],
      "metadata": {
        "id": "shizSYmq-X6I"
      },
      "execution_count": 5,
      "outputs": []
    },
    {
      "cell_type": "code",
      "source": [
        "response = model.generate_content(\"Crie uma tabela no formato JSON. Pense na história do mundo dos games. Faça a lista com as 10 maiores notas do metacritic em ordem. Use quatro variáveis: titulo_do_game, plataforma,data_de_lancamento e nota.\")\n",
        "print(response.text)"
      ],
      "metadata": {
        "colab": {
          "base_uri": "https://localhost:8080/",
          "height": 1000
        },
        "id": "x3W7R8wD-cSJ",
        "outputId": "34781472-e0b2-4dc9-e462-aaaa888ec7f6"
      },
      "execution_count": 11,
      "outputs": [
        {
          "output_type": "stream",
          "name": "stdout",
          "text": [
            "```json\n",
            "[\n",
            "  {\n",
            "    \"titulo_do_game\": \"The Legend of Zelda: Breath of the Wild\",\n",
            "    \"plataforma\": \"Nintendo Switch, Wii U\",\n",
            "    \"data_de_lancamento\": \"2017-03-03\",\n",
            "    \"nota\": 97\n",
            "  },\n",
            "  {\n",
            "    \"titulo_do_game\": \"Grand Theft Auto V\",\n",
            "    \"plataforma\": \"PlayStation 3, PlayStation 4, Xbox 360, Xbox One, PC\",\n",
            "    \"data_de_lancamento\": \"2013-09-17\",\n",
            "    \"nota\": 97\n",
            "  },\n",
            "  {\n",
            "    \"titulo_do_game\": \"The Witcher 3: Wild Hunt\",\n",
            "    \"plataforma\": \"PlayStation 4, Xbox One, PC\",\n",
            "    \"data_de_lancamento\": \"2015-05-19\",\n",
            "    \"nota\": 96\n",
            "  },\n",
            "  {\n",
            "    \"titulo_do_game\": \"Super Mario Odyssey\",\n",
            "    \"plataforma\": \"Nintendo Switch\",\n",
            "    \"data_de_lancamento\": \"2017-10-27\",\n",
            "    \"nota\": 96\n",
            "  },\n",
            "  {\n",
            "    \"titulo_do_game\": \"Red Dead Redemption 2\",\n",
            "    \"plataforma\": \"PlayStation 4, Xbox One, PC\",\n",
            "    \"data_de_lancamento\": \"2018-10-26\",\n",
            "    \"nota\": 95\n",
            "  },\n",
            "  {\n",
            "    \"titulo_do_game\": \"Portal 2\",\n",
            "    \"plataforma\": \"PlayStation 3, Xbox 360, PC\",\n",
            "    \"data_de_lancamento\": \"2011-04-19\",\n",
            "    \"nota\": 95\n",
            "  },\n",
            "  {\n",
            "    \"titulo_do_game\": \"The Last of Us\",\n",
            "    \"plataforma\": \"PlayStation 3\",\n",
            "    \"data_de_lancamento\": \"2013-06-14\",\n",
            "    \"nota\": 95\n",
            "  },\n",
            "  {\n",
            "    \"titulo_do_game\": \"Grand Theft Auto IV\",\n",
            "    \"plataforma\": \"PlayStation 3, Xbox 360, PC\",\n",
            "    \"data_de_lancamento\": \"2008-04-29\",\n",
            "    \"nota\": 95\n",
            "  },\n",
            "  {\n",
            "    \"titulo_do_game\": \"Mass Effect 2\",\n",
            "    \"plataforma\": \"PlayStation 3, Xbox 360, PC\",\n",
            "    \"data_de_lancamento\": \"2010-01-26\",\n",
            "    \"nota\": 95\n",
            "  },\n",
            "  {\n",
            "    \"titulo_do_game\": \"God of War (2018)\",\n",
            "    \"plataforma\": \"PlayStation 4\",\n",
            "    \"data_de_lancamento\": \"2018-04-20\",\n",
            "    \"nota\": 94\n",
            "  }\n",
            "]\n",
            "```\n"
          ]
        }
      ]
    }
  ]
}